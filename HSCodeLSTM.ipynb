{
 "cells": [
  {
   "cell_type": "code",
   "execution_count": 1,
   "id": "initial_id",
   "metadata": {
    "collapsed": true,
    "ExecuteTime": {
     "end_time": "2023-12-08T12:50:02.411899Z",
     "start_time": "2023-12-08T12:50:02.018216Z"
    }
   },
   "outputs": [],
   "source": [
    "import pandas as pd\n",
    "import numpy as np"
   ]
  },
  {
   "cell_type": "code",
   "execution_count": 2,
   "outputs": [],
   "source": [
    "df = pd.read_csv('keyword_extract.csv')"
   ],
   "metadata": {
    "collapsed": false,
    "ExecuteTime": {
     "end_time": "2023-12-08T12:50:07.376241Z",
     "start_time": "2023-12-08T12:50:07.286745Z"
    }
   },
   "id": "c509149c8b94024a"
  },
  {
   "cell_type": "code",
   "execution_count": 3,
   "outputs": [
    {
     "data": {
      "text/plain": "   Unnamed: 0  HS_Code                                        Description  \\\n0           0   500100           disconnectors suitable for s3cd 362 1250   \n1           8   500100  freight prepaid cargo is stowed in a refrigera...   \n2          23   500100  705 ctn   12 488 dz prs 2700 dz prs 70 cotton ...   \n3          25   500100  other  suitable for furnit ureother  suitable ...   \n4          26   500100  tunnel warmer suitable tunnel warmer suitable ...   \n\n                                 Keyword_with_Scores  \n0  [('suitable', 0.3382), ('1250', 0.5676), ('s3c...  \n1  [('1840 bags kg', 0.3781), ('firbinogen hc 500...  \n2  [('cotton 25 pvc', 0.4001), ('polyester 37 cot...  \n3  [('suitable', 0.4642), ('furnit', 0.5218), ('u...  \n4  [('250 cpm', 0.3962), ('cpm aluminum', 0.4251)...  ",
      "text/html": "<div>\n<style scoped>\n    .dataframe tbody tr th:only-of-type {\n        vertical-align: middle;\n    }\n\n    .dataframe tbody tr th {\n        vertical-align: top;\n    }\n\n    .dataframe thead th {\n        text-align: right;\n    }\n</style>\n<table border=\"1\" class=\"dataframe\">\n  <thead>\n    <tr style=\"text-align: right;\">\n      <th></th>\n      <th>Unnamed: 0</th>\n      <th>HS_Code</th>\n      <th>Description</th>\n      <th>Keyword_with_Scores</th>\n    </tr>\n  </thead>\n  <tbody>\n    <tr>\n      <th>0</th>\n      <td>0</td>\n      <td>500100</td>\n      <td>disconnectors suitable for s3cd 362 1250</td>\n      <td>[('suitable', 0.3382), ('1250', 0.5676), ('s3c...</td>\n    </tr>\n    <tr>\n      <th>1</th>\n      <td>8</td>\n      <td>500100</td>\n      <td>freight prepaid cargo is stowed in a refrigera...</td>\n      <td>[('1840 bags kg', 0.3781), ('firbinogen hc 500...</td>\n    </tr>\n    <tr>\n      <th>2</th>\n      <td>23</td>\n      <td>500100</td>\n      <td>705 ctn   12 488 dz prs 2700 dz prs 70 cotton ...</td>\n      <td>[('cotton 25 pvc', 0.4001), ('polyester 37 cot...</td>\n    </tr>\n    <tr>\n      <th>3</th>\n      <td>25</td>\n      <td>500100</td>\n      <td>other  suitable for furnit ureother  suitable ...</td>\n      <td>[('suitable', 0.4642), ('furnit', 0.5218), ('u...</td>\n    </tr>\n    <tr>\n      <th>4</th>\n      <td>26</td>\n      <td>500100</td>\n      <td>tunnel warmer suitable tunnel warmer suitable ...</td>\n      <td>[('250 cpm', 0.3962), ('cpm aluminum', 0.4251)...</td>\n    </tr>\n  </tbody>\n</table>\n</div>"
     },
     "execution_count": 3,
     "metadata": {},
     "output_type": "execute_result"
    }
   ],
   "source": [
    "df.head()"
   ],
   "metadata": {
    "collapsed": false,
    "ExecuteTime": {
     "end_time": "2023-12-08T12:50:07.992102Z",
     "start_time": "2023-12-08T12:50:07.967269Z"
    }
   },
   "id": "c8a60296953880e0"
  },
  {
   "cell_type": "code",
   "execution_count": 4,
   "outputs": [],
   "source": [
    "import ast\n",
    "df['Keywords'] = df['Keyword_with_Scores'].apply(lambda x:  ast.literal_eval(x))"
   ],
   "metadata": {
    "collapsed": false,
    "ExecuteTime": {
     "end_time": "2023-12-08T12:50:09.129602Z",
     "start_time": "2023-12-08T12:50:08.684605Z"
    }
   },
   "id": "c2a0c2c35de063e2"
  },
  {
   "cell_type": "code",
   "execution_count": 5,
   "outputs": [
    {
     "data": {
      "text/plain": "   Unnamed: 0  HS_Code                                        Description  \\\n0           0   500100           disconnectors suitable for s3cd 362 1250   \n1           8   500100  freight prepaid cargo is stowed in a refrigera...   \n2          23   500100  705 ctn   12 488 dz prs 2700 dz prs 70 cotton ...   \n3          25   500100  other  suitable for furnit ureother  suitable ...   \n4          26   500100  tunnel warmer suitable tunnel warmer suitable ...   \n\n                                 Keyword_with_Scores  \\\n0  [('suitable', 0.3382), ('1250', 0.5676), ('s3c...   \n1  [('1840 bags kg', 0.3781), ('firbinogen hc 500...   \n2  [('cotton 25 pvc', 0.4001), ('polyester 37 cot...   \n3  [('suitable', 0.4642), ('furnit', 0.5218), ('u...   \n4  [('250 cpm', 0.3962), ('cpm aluminum', 0.4251)...   \n\n                                            Keywords  \n0  [(suitable, 0.3382), (1250, 0.5676), (s3cd 362...  \n1  [(1840 bags kg, 0.3781), (firbinogen hc 500, 0...  \n2  [(cotton 25 pvc, 0.4001), (polyester 37 cotton...  \n3  [(suitable, 0.4642), (furnit, 0.5218), (ureoth...  \n4  [(250 cpm, 0.3962), (cpm aluminum, 0.4251), (t...  ",
      "text/html": "<div>\n<style scoped>\n    .dataframe tbody tr th:only-of-type {\n        vertical-align: middle;\n    }\n\n    .dataframe tbody tr th {\n        vertical-align: top;\n    }\n\n    .dataframe thead th {\n        text-align: right;\n    }\n</style>\n<table border=\"1\" class=\"dataframe\">\n  <thead>\n    <tr style=\"text-align: right;\">\n      <th></th>\n      <th>Unnamed: 0</th>\n      <th>HS_Code</th>\n      <th>Description</th>\n      <th>Keyword_with_Scores</th>\n      <th>Keywords</th>\n    </tr>\n  </thead>\n  <tbody>\n    <tr>\n      <th>0</th>\n      <td>0</td>\n      <td>500100</td>\n      <td>disconnectors suitable for s3cd 362 1250</td>\n      <td>[('suitable', 0.3382), ('1250', 0.5676), ('s3c...</td>\n      <td>[(suitable, 0.3382), (1250, 0.5676), (s3cd 362...</td>\n    </tr>\n    <tr>\n      <th>1</th>\n      <td>8</td>\n      <td>500100</td>\n      <td>freight prepaid cargo is stowed in a refrigera...</td>\n      <td>[('1840 bags kg', 0.3781), ('firbinogen hc 500...</td>\n      <td>[(1840 bags kg, 0.3781), (firbinogen hc 500, 0...</td>\n    </tr>\n    <tr>\n      <th>2</th>\n      <td>23</td>\n      <td>500100</td>\n      <td>705 ctn   12 488 dz prs 2700 dz prs 70 cotton ...</td>\n      <td>[('cotton 25 pvc', 0.4001), ('polyester 37 cot...</td>\n      <td>[(cotton 25 pvc, 0.4001), (polyester 37 cotton...</td>\n    </tr>\n    <tr>\n      <th>3</th>\n      <td>25</td>\n      <td>500100</td>\n      <td>other  suitable for furnit ureother  suitable ...</td>\n      <td>[('suitable', 0.4642), ('furnit', 0.5218), ('u...</td>\n      <td>[(suitable, 0.4642), (furnit, 0.5218), (ureoth...</td>\n    </tr>\n    <tr>\n      <th>4</th>\n      <td>26</td>\n      <td>500100</td>\n      <td>tunnel warmer suitable tunnel warmer suitable ...</td>\n      <td>[('250 cpm', 0.3962), ('cpm aluminum', 0.4251)...</td>\n      <td>[(250 cpm, 0.3962), (cpm aluminum, 0.4251), (t...</td>\n    </tr>\n  </tbody>\n</table>\n</div>"
     },
     "execution_count": 5,
     "metadata": {},
     "output_type": "execute_result"
    }
   ],
   "source": [
    "df.head()"
   ],
   "metadata": {
    "collapsed": false,
    "ExecuteTime": {
     "end_time": "2023-12-08T12:50:09.787552Z",
     "start_time": "2023-12-08T12:50:09.777696Z"
    }
   },
   "id": "4b5dbd931c08aa1f"
  },
  {
   "cell_type": "code",
   "execution_count": 6,
   "outputs": [],
   "source": [
    "def extract_keywords(keyword_score_list):\n",
    "    phrase_list = []\n",
    "    if len(keyword_score_list) > 0:\n",
    "        for keyword in keyword_score_list:\n",
    "            if keyword[1] >= 0.1:\n",
    "                phrase_list.append(keyword[0])\n",
    "        phrase_non_unique = \" \".join(phrase_list)\n",
    "        unique_words = set(phrase_non_unique.split(' '))\n",
    "        phrase = list(unique_words)\n",
    "\n",
    "        return phrase\n",
    "    else:\n",
    "        return \"\""
   ],
   "metadata": {
    "collapsed": false,
    "ExecuteTime": {
     "end_time": "2023-12-08T12:50:11.319955Z",
     "start_time": "2023-12-08T12:50:11.307142Z"
    }
   },
   "id": "fe2d1455db068a96"
  },
  {
   "cell_type": "code",
   "execution_count": 7,
   "outputs": [],
   "source": [
    "df['HS_Code'] = df['HS_Code'].astype(str)"
   ],
   "metadata": {
    "collapsed": false,
    "ExecuteTime": {
     "end_time": "2023-12-08T12:50:12.114346Z",
     "start_time": "2023-12-08T12:50:12.107210Z"
    }
   },
   "id": "4b5bb456602f6953"
  },
  {
   "cell_type": "code",
   "execution_count": 8,
   "outputs": [],
   "source": [
    "df['Keyword'] = df['Keywords'].apply(extract_keywords)"
   ],
   "metadata": {
    "collapsed": false,
    "ExecuteTime": {
     "end_time": "2023-12-08T12:50:13.121686Z",
     "start_time": "2023-12-08T12:50:12.996694Z"
    }
   },
   "id": "9ebadd79ea9b3432"
  },
  {
   "cell_type": "code",
   "execution_count": 9,
   "outputs": [
    {
     "data": {
      "text/plain": "   Unnamed: 0 HS_Code                                        Description  \\\n0           0  500100           disconnectors suitable for s3cd 362 1250   \n1           8  500100  freight prepaid cargo is stowed in a refrigera...   \n2          23  500100  705 ctn   12 488 dz prs 2700 dz prs 70 cotton ...   \n3          25  500100  other  suitable for furnit ureother  suitable ...   \n4          26  500100  tunnel warmer suitable tunnel warmer suitable ...   \n\n                                 Keyword_with_Scores  \\\n0  [('suitable', 0.3382), ('1250', 0.5676), ('s3c...   \n1  [('1840 bags kg', 0.3781), ('firbinogen hc 500...   \n2  [('cotton 25 pvc', 0.4001), ('polyester 37 cot...   \n3  [('suitable', 0.4642), ('furnit', 0.5218), ('u...   \n4  [('250 cpm', 0.3962), ('cpm aluminum', 0.4251)...   \n\n                                            Keywords  \\\n0  [(suitable, 0.3382), (1250, 0.5676), (s3cd 362...   \n1  [(1840 bags kg, 0.3781), (firbinogen hc 500, 0...   \n2  [(cotton 25 pvc, 0.4001), (polyester 37 cotton...   \n3  [(suitable, 0.4642), (furnit, 0.5218), (ureoth...   \n4  [(250 cpm, 0.3962), (cpm aluminum, 0.4251), (t...   \n\n                                             Keyword  \n0         [1250, suitable, disconnectors, 362, s3cd]  \n1  [500, kg, bags, hc, firbinogen, 1840, plasma, ...  \n2  [dz, 275, 10hstmkw, 25, 500, oz, ladies, 8njrl...  \n3                       [furnit, suitable, ureother]  \n4  [aluminum, cans, cpm, 250, warmer, suitable, t...  ",
      "text/html": "<div>\n<style scoped>\n    .dataframe tbody tr th:only-of-type {\n        vertical-align: middle;\n    }\n\n    .dataframe tbody tr th {\n        vertical-align: top;\n    }\n\n    .dataframe thead th {\n        text-align: right;\n    }\n</style>\n<table border=\"1\" class=\"dataframe\">\n  <thead>\n    <tr style=\"text-align: right;\">\n      <th></th>\n      <th>Unnamed: 0</th>\n      <th>HS_Code</th>\n      <th>Description</th>\n      <th>Keyword_with_Scores</th>\n      <th>Keywords</th>\n      <th>Keyword</th>\n    </tr>\n  </thead>\n  <tbody>\n    <tr>\n      <th>0</th>\n      <td>0</td>\n      <td>500100</td>\n      <td>disconnectors suitable for s3cd 362 1250</td>\n      <td>[('suitable', 0.3382), ('1250', 0.5676), ('s3c...</td>\n      <td>[(suitable, 0.3382), (1250, 0.5676), (s3cd 362...</td>\n      <td>[1250, suitable, disconnectors, 362, s3cd]</td>\n    </tr>\n    <tr>\n      <th>1</th>\n      <td>8</td>\n      <td>500100</td>\n      <td>freight prepaid cargo is stowed in a refrigera...</td>\n      <td>[('1840 bags kg', 0.3781), ('firbinogen hc 500...</td>\n      <td>[(1840 bags kg, 0.3781), (firbinogen hc 500, 0...</td>\n      <td>[500, kg, bags, hc, firbinogen, 1840, plasma, ...</td>\n    </tr>\n    <tr>\n      <th>2</th>\n      <td>23</td>\n      <td>500100</td>\n      <td>705 ctn   12 488 dz prs 2700 dz prs 70 cotton ...</td>\n      <td>[('cotton 25 pvc', 0.4001), ('polyester 37 cot...</td>\n      <td>[(cotton 25 pvc, 0.4001), (polyester 37 cotton...</td>\n      <td>[dz, 275, 10hstmkw, 25, 500, oz, ladies, 8njrl...</td>\n    </tr>\n    <tr>\n      <th>3</th>\n      <td>25</td>\n      <td>500100</td>\n      <td>other  suitable for furnit ureother  suitable ...</td>\n      <td>[('suitable', 0.4642), ('furnit', 0.5218), ('u...</td>\n      <td>[(suitable, 0.4642), (furnit, 0.5218), (ureoth...</td>\n      <td>[furnit, suitable, ureother]</td>\n    </tr>\n    <tr>\n      <th>4</th>\n      <td>26</td>\n      <td>500100</td>\n      <td>tunnel warmer suitable tunnel warmer suitable ...</td>\n      <td>[('250 cpm', 0.3962), ('cpm aluminum', 0.4251)...</td>\n      <td>[(250 cpm, 0.3962), (cpm aluminum, 0.4251), (t...</td>\n      <td>[aluminum, cans, cpm, 250, warmer, suitable, t...</td>\n    </tr>\n  </tbody>\n</table>\n</div>"
     },
     "execution_count": 9,
     "metadata": {},
     "output_type": "execute_result"
    }
   ],
   "source": [
    "df.head()"
   ],
   "metadata": {
    "collapsed": false,
    "ExecuteTime": {
     "end_time": "2023-12-08T12:50:13.824314Z",
     "start_time": "2023-12-08T12:50:13.809624Z"
    }
   },
   "id": "52c08853155265a3"
  },
  {
   "cell_type": "code",
   "execution_count": 10,
   "outputs": [
    {
     "data": {
      "text/plain": "       Unnamed: 0 HS_Code    Description Keyword_with_Scores Keywords Keyword\n27             65  520819  oxford fabric                  []       []        \n68            114  520821      textiles                   []       []        \n83            138  520822       fabrics                   []       []        \n85            140  520822      ge optima                  []       []        \n93            148  520822      textiles                   []       []        \n...           ...     ...            ...                 ...      ...     ...\n21425       42510  550941      pva cloth                  []       []        \n21436       42540  550942   kynol fiber                   []       []        \n21437       42542  550942  kevlar black                   []       []        \n21440       42551  550942        kevlar                   []       []        \n21441       42553  550942  kevlar black                   []       []        \n\n[1744 rows x 6 columns]",
      "text/html": "<div>\n<style scoped>\n    .dataframe tbody tr th:only-of-type {\n        vertical-align: middle;\n    }\n\n    .dataframe tbody tr th {\n        vertical-align: top;\n    }\n\n    .dataframe thead th {\n        text-align: right;\n    }\n</style>\n<table border=\"1\" class=\"dataframe\">\n  <thead>\n    <tr style=\"text-align: right;\">\n      <th></th>\n      <th>Unnamed: 0</th>\n      <th>HS_Code</th>\n      <th>Description</th>\n      <th>Keyword_with_Scores</th>\n      <th>Keywords</th>\n      <th>Keyword</th>\n    </tr>\n  </thead>\n  <tbody>\n    <tr>\n      <th>27</th>\n      <td>65</td>\n      <td>520819</td>\n      <td>oxford fabric</td>\n      <td>[]</td>\n      <td>[]</td>\n      <td></td>\n    </tr>\n    <tr>\n      <th>68</th>\n      <td>114</td>\n      <td>520821</td>\n      <td>textiles</td>\n      <td>[]</td>\n      <td>[]</td>\n      <td></td>\n    </tr>\n    <tr>\n      <th>83</th>\n      <td>138</td>\n      <td>520822</td>\n      <td>fabrics</td>\n      <td>[]</td>\n      <td>[]</td>\n      <td></td>\n    </tr>\n    <tr>\n      <th>85</th>\n      <td>140</td>\n      <td>520822</td>\n      <td>ge optima</td>\n      <td>[]</td>\n      <td>[]</td>\n      <td></td>\n    </tr>\n    <tr>\n      <th>93</th>\n      <td>148</td>\n      <td>520822</td>\n      <td>textiles</td>\n      <td>[]</td>\n      <td>[]</td>\n      <td></td>\n    </tr>\n    <tr>\n      <th>...</th>\n      <td>...</td>\n      <td>...</td>\n      <td>...</td>\n      <td>...</td>\n      <td>...</td>\n      <td>...</td>\n    </tr>\n    <tr>\n      <th>21425</th>\n      <td>42510</td>\n      <td>550941</td>\n      <td>pva cloth</td>\n      <td>[]</td>\n      <td>[]</td>\n      <td></td>\n    </tr>\n    <tr>\n      <th>21436</th>\n      <td>42540</td>\n      <td>550942</td>\n      <td>kynol fiber</td>\n      <td>[]</td>\n      <td>[]</td>\n      <td></td>\n    </tr>\n    <tr>\n      <th>21437</th>\n      <td>42542</td>\n      <td>550942</td>\n      <td>kevlar black</td>\n      <td>[]</td>\n      <td>[]</td>\n      <td></td>\n    </tr>\n    <tr>\n      <th>21440</th>\n      <td>42551</td>\n      <td>550942</td>\n      <td>kevlar</td>\n      <td>[]</td>\n      <td>[]</td>\n      <td></td>\n    </tr>\n    <tr>\n      <th>21441</th>\n      <td>42553</td>\n      <td>550942</td>\n      <td>kevlar black</td>\n      <td>[]</td>\n      <td>[]</td>\n      <td></td>\n    </tr>\n  </tbody>\n</table>\n<p>1744 rows × 6 columns</p>\n</div>"
     },
     "execution_count": 10,
     "metadata": {},
     "output_type": "execute_result"
    }
   ],
   "source": [
    "df[df['Keywords'].map(lambda d: len(d)) <= 0]"
   ],
   "metadata": {
    "collapsed": false,
    "ExecuteTime": {
     "end_time": "2023-12-08T12:50:14.653135Z",
     "start_time": "2023-12-08T12:50:14.634084Z"
    }
   },
   "id": "b2ea79711c5191f1"
  },
  {
   "cell_type": "code",
   "execution_count": 11,
   "outputs": [],
   "source": [
    "df['Keyword'] = np.where(df['Keywords'].str.len() == 0, df['Description'].str.lower(), df['Keyword'])"
   ],
   "metadata": {
    "collapsed": false,
    "ExecuteTime": {
     "end_time": "2023-12-08T12:50:21.820570Z",
     "start_time": "2023-12-08T12:50:21.803974Z"
    }
   },
   "id": "361bc154971ecf9c"
  },
  {
   "cell_type": "code",
   "execution_count": 12,
   "outputs": [
    {
     "data": {
      "text/plain": "   Unnamed: 0 HS_Code                                        Description  \\\n0           0  500100           disconnectors suitable for s3cd 362 1250   \n1           8  500100  freight prepaid cargo is stowed in a refrigera...   \n2          23  500100  705 ctn   12 488 dz prs 2700 dz prs 70 cotton ...   \n3          25  500100  other  suitable for furnit ureother  suitable ...   \n4          26  500100  tunnel warmer suitable tunnel warmer suitable ...   \n\n                                 Keyword_with_Scores  \\\n0  [('suitable', 0.3382), ('1250', 0.5676), ('s3c...   \n1  [('1840 bags kg', 0.3781), ('firbinogen hc 500...   \n2  [('cotton 25 pvc', 0.4001), ('polyester 37 cot...   \n3  [('suitable', 0.4642), ('furnit', 0.5218), ('u...   \n4  [('250 cpm', 0.3962), ('cpm aluminum', 0.4251)...   \n\n                                            Keywords  \\\n0  [(suitable, 0.3382), (1250, 0.5676), (s3cd 362...   \n1  [(1840 bags kg, 0.3781), (firbinogen hc 500, 0...   \n2  [(cotton 25 pvc, 0.4001), (polyester 37 cotton...   \n3  [(suitable, 0.4642), (furnit, 0.5218), (ureoth...   \n4  [(250 cpm, 0.3962), (cpm aluminum, 0.4251), (t...   \n\n                                             Keyword  \n0         [1250, suitable, disconnectors, 362, s3cd]  \n1  [500, kg, bags, hc, firbinogen, 1840, plasma, ...  \n2  [dz, 275, 10hstmkw, 25, 500, oz, ladies, 8njrl...  \n3                       [furnit, suitable, ureother]  \n4  [aluminum, cans, cpm, 250, warmer, suitable, t...  ",
      "text/html": "<div>\n<style scoped>\n    .dataframe tbody tr th:only-of-type {\n        vertical-align: middle;\n    }\n\n    .dataframe tbody tr th {\n        vertical-align: top;\n    }\n\n    .dataframe thead th {\n        text-align: right;\n    }\n</style>\n<table border=\"1\" class=\"dataframe\">\n  <thead>\n    <tr style=\"text-align: right;\">\n      <th></th>\n      <th>Unnamed: 0</th>\n      <th>HS_Code</th>\n      <th>Description</th>\n      <th>Keyword_with_Scores</th>\n      <th>Keywords</th>\n      <th>Keyword</th>\n    </tr>\n  </thead>\n  <tbody>\n    <tr>\n      <th>0</th>\n      <td>0</td>\n      <td>500100</td>\n      <td>disconnectors suitable for s3cd 362 1250</td>\n      <td>[('suitable', 0.3382), ('1250', 0.5676), ('s3c...</td>\n      <td>[(suitable, 0.3382), (1250, 0.5676), (s3cd 362...</td>\n      <td>[1250, suitable, disconnectors, 362, s3cd]</td>\n    </tr>\n    <tr>\n      <th>1</th>\n      <td>8</td>\n      <td>500100</td>\n      <td>freight prepaid cargo is stowed in a refrigera...</td>\n      <td>[('1840 bags kg', 0.3781), ('firbinogen hc 500...</td>\n      <td>[(1840 bags kg, 0.3781), (firbinogen hc 500, 0...</td>\n      <td>[500, kg, bags, hc, firbinogen, 1840, plasma, ...</td>\n    </tr>\n    <tr>\n      <th>2</th>\n      <td>23</td>\n      <td>500100</td>\n      <td>705 ctn   12 488 dz prs 2700 dz prs 70 cotton ...</td>\n      <td>[('cotton 25 pvc', 0.4001), ('polyester 37 cot...</td>\n      <td>[(cotton 25 pvc, 0.4001), (polyester 37 cotton...</td>\n      <td>[dz, 275, 10hstmkw, 25, 500, oz, ladies, 8njrl...</td>\n    </tr>\n    <tr>\n      <th>3</th>\n      <td>25</td>\n      <td>500100</td>\n      <td>other  suitable for furnit ureother  suitable ...</td>\n      <td>[('suitable', 0.4642), ('furnit', 0.5218), ('u...</td>\n      <td>[(suitable, 0.4642), (furnit, 0.5218), (ureoth...</td>\n      <td>[furnit, suitable, ureother]</td>\n    </tr>\n    <tr>\n      <th>4</th>\n      <td>26</td>\n      <td>500100</td>\n      <td>tunnel warmer suitable tunnel warmer suitable ...</td>\n      <td>[('250 cpm', 0.3962), ('cpm aluminum', 0.4251)...</td>\n      <td>[(250 cpm, 0.3962), (cpm aluminum, 0.4251), (t...</td>\n      <td>[aluminum, cans, cpm, 250, warmer, suitable, t...</td>\n    </tr>\n  </tbody>\n</table>\n</div>"
     },
     "execution_count": 12,
     "metadata": {},
     "output_type": "execute_result"
    }
   ],
   "source": [
    "df.head()"
   ],
   "metadata": {
    "collapsed": false,
    "ExecuteTime": {
     "end_time": "2023-12-08T12:50:23.278814Z",
     "start_time": "2023-12-08T12:50:23.269093Z"
    }
   },
   "id": "e02b55a45e2d6c25"
  },
  {
   "cell_type": "code",
   "execution_count": 13,
   "outputs": [
    {
     "data": {
      "text/plain": "Empty DataFrame\nColumns: [Unnamed: 0, HS_Code, Description, Keyword_with_Scores, Keywords, Keyword]\nIndex: []",
      "text/html": "<div>\n<style scoped>\n    .dataframe tbody tr th:only-of-type {\n        vertical-align: middle;\n    }\n\n    .dataframe tbody tr th {\n        vertical-align: top;\n    }\n\n    .dataframe thead th {\n        text-align: right;\n    }\n</style>\n<table border=\"1\" class=\"dataframe\">\n  <thead>\n    <tr style=\"text-align: right;\">\n      <th></th>\n      <th>Unnamed: 0</th>\n      <th>HS_Code</th>\n      <th>Description</th>\n      <th>Keyword_with_Scores</th>\n      <th>Keywords</th>\n      <th>Keyword</th>\n    </tr>\n  </thead>\n  <tbody>\n  </tbody>\n</table>\n</div>"
     },
     "execution_count": 13,
     "metadata": {},
     "output_type": "execute_result"
    }
   ],
   "source": [
    "df[df['Keyword'].map(lambda d: len(d)) <= 0]"
   ],
   "metadata": {
    "collapsed": false,
    "ExecuteTime": {
     "end_time": "2023-12-08T12:50:24.197500Z",
     "start_time": "2023-12-08T12:50:24.190490Z"
    }
   },
   "id": "1aac0132c713b879"
  },
  {
   "cell_type": "code",
   "execution_count": 15,
   "outputs": [],
   "source": [
    "df['HS_Code'] = df['HS_Code'].apply(lambda x: x[:4])"
   ],
   "metadata": {
    "collapsed": false,
    "ExecuteTime": {
     "end_time": "2023-12-08T12:50:36.903112Z",
     "start_time": "2023-12-08T12:50:36.886886Z"
    }
   },
   "id": "abb9ae67f53a65c2"
  },
  {
   "cell_type": "code",
   "execution_count": 16,
   "outputs": [
    {
     "data": {
      "text/plain": "   Unnamed: 0 HS_Code                                        Description  \\\n0           0    5001           disconnectors suitable for s3cd 362 1250   \n1           8    5001  freight prepaid cargo is stowed in a refrigera...   \n2          23    5001  705 ctn   12 488 dz prs 2700 dz prs 70 cotton ...   \n3          25    5001  other  suitable for furnit ureother  suitable ...   \n4          26    5001  tunnel warmer suitable tunnel warmer suitable ...   \n\n                                 Keyword_with_Scores  \\\n0  [('suitable', 0.3382), ('1250', 0.5676), ('s3c...   \n1  [('1840 bags kg', 0.3781), ('firbinogen hc 500...   \n2  [('cotton 25 pvc', 0.4001), ('polyester 37 cot...   \n3  [('suitable', 0.4642), ('furnit', 0.5218), ('u...   \n4  [('250 cpm', 0.3962), ('cpm aluminum', 0.4251)...   \n\n                                            Keywords  \\\n0  [(suitable, 0.3382), (1250, 0.5676), (s3cd 362...   \n1  [(1840 bags kg, 0.3781), (firbinogen hc 500, 0...   \n2  [(cotton 25 pvc, 0.4001), (polyester 37 cotton...   \n3  [(suitable, 0.4642), (furnit, 0.5218), (ureoth...   \n4  [(250 cpm, 0.3962), (cpm aluminum, 0.4251), (t...   \n\n                                             Keyword  \n0         [1250, suitable, disconnectors, 362, s3cd]  \n1  [500, kg, bags, hc, firbinogen, 1840, plasma, ...  \n2  [dz, 275, 10hstmkw, 25, 500, oz, ladies, 8njrl...  \n3                       [furnit, suitable, ureother]  \n4  [aluminum, cans, cpm, 250, warmer, suitable, t...  ",
      "text/html": "<div>\n<style scoped>\n    .dataframe tbody tr th:only-of-type {\n        vertical-align: middle;\n    }\n\n    .dataframe tbody tr th {\n        vertical-align: top;\n    }\n\n    .dataframe thead th {\n        text-align: right;\n    }\n</style>\n<table border=\"1\" class=\"dataframe\">\n  <thead>\n    <tr style=\"text-align: right;\">\n      <th></th>\n      <th>Unnamed: 0</th>\n      <th>HS_Code</th>\n      <th>Description</th>\n      <th>Keyword_with_Scores</th>\n      <th>Keywords</th>\n      <th>Keyword</th>\n    </tr>\n  </thead>\n  <tbody>\n    <tr>\n      <th>0</th>\n      <td>0</td>\n      <td>5001</td>\n      <td>disconnectors suitable for s3cd 362 1250</td>\n      <td>[('suitable', 0.3382), ('1250', 0.5676), ('s3c...</td>\n      <td>[(suitable, 0.3382), (1250, 0.5676), (s3cd 362...</td>\n      <td>[1250, suitable, disconnectors, 362, s3cd]</td>\n    </tr>\n    <tr>\n      <th>1</th>\n      <td>8</td>\n      <td>5001</td>\n      <td>freight prepaid cargo is stowed in a refrigera...</td>\n      <td>[('1840 bags kg', 0.3781), ('firbinogen hc 500...</td>\n      <td>[(1840 bags kg, 0.3781), (firbinogen hc 500, 0...</td>\n      <td>[500, kg, bags, hc, firbinogen, 1840, plasma, ...</td>\n    </tr>\n    <tr>\n      <th>2</th>\n      <td>23</td>\n      <td>5001</td>\n      <td>705 ctn   12 488 dz prs 2700 dz prs 70 cotton ...</td>\n      <td>[('cotton 25 pvc', 0.4001), ('polyester 37 cot...</td>\n      <td>[(cotton 25 pvc, 0.4001), (polyester 37 cotton...</td>\n      <td>[dz, 275, 10hstmkw, 25, 500, oz, ladies, 8njrl...</td>\n    </tr>\n    <tr>\n      <th>3</th>\n      <td>25</td>\n      <td>5001</td>\n      <td>other  suitable for furnit ureother  suitable ...</td>\n      <td>[('suitable', 0.4642), ('furnit', 0.5218), ('u...</td>\n      <td>[(suitable, 0.4642), (furnit, 0.5218), (ureoth...</td>\n      <td>[furnit, suitable, ureother]</td>\n    </tr>\n    <tr>\n      <th>4</th>\n      <td>26</td>\n      <td>5001</td>\n      <td>tunnel warmer suitable tunnel warmer suitable ...</td>\n      <td>[('250 cpm', 0.3962), ('cpm aluminum', 0.4251)...</td>\n      <td>[(250 cpm, 0.3962), (cpm aluminum, 0.4251), (t...</td>\n      <td>[aluminum, cans, cpm, 250, warmer, suitable, t...</td>\n    </tr>\n  </tbody>\n</table>\n</div>"
     },
     "execution_count": 16,
     "metadata": {},
     "output_type": "execute_result"
    }
   ],
   "source": [
    "df.head()"
   ],
   "metadata": {
    "collapsed": false,
    "ExecuteTime": {
     "end_time": "2023-12-08T12:50:37.945196Z",
     "start_time": "2023-12-08T12:50:37.927288Z"
    }
   },
   "id": "85b22df4db8ac719"
  },
  {
   "cell_type": "code",
   "execution_count": 17,
   "outputs": [],
   "source": [
    "from sklearn import preprocessing\n",
    "\n",
    "# Encoding the label\n",
    "LabelEnc = preprocessing.LabelEncoder()\n",
    "df['HS_Code_Encoded'] = LabelEnc.fit_transform(df['HS_Code'])"
   ],
   "metadata": {
    "collapsed": false,
    "ExecuteTime": {
     "end_time": "2023-12-08T12:50:46.508936Z",
     "start_time": "2023-12-08T12:50:45.407995Z"
    }
   },
   "id": "ef414d525ac85ea5"
  },
  {
   "cell_type": "code",
   "execution_count": 18,
   "outputs": [],
   "source": [
    "df.drop(columns=['Unnamed: 0','Description','Keyword_with_Scores','Keywords','HS_Code'], inplace=True)"
   ],
   "metadata": {
    "collapsed": false,
    "ExecuteTime": {
     "end_time": "2023-12-08T12:50:54.467430Z",
     "start_time": "2023-12-08T12:50:54.457536Z"
    }
   },
   "id": "e285ed35705e1b36"
  },
  {
   "cell_type": "code",
   "execution_count": 19,
   "outputs": [
    {
     "data": {
      "text/plain": "                                             Keyword  HS_Code_Encoded\n0         [1250, suitable, disconnectors, 362, s3cd]                0\n1  [500, kg, bags, hc, firbinogen, 1840, plasma, ...                0\n2  [dz, 275, 10hstmkw, 25, 500, oz, ladies, 8njrl...                0\n3                       [furnit, suitable, ureother]                0\n4  [aluminum, cans, cpm, 250, warmer, suitable, t...                0",
      "text/html": "<div>\n<style scoped>\n    .dataframe tbody tr th:only-of-type {\n        vertical-align: middle;\n    }\n\n    .dataframe tbody tr th {\n        vertical-align: top;\n    }\n\n    .dataframe thead th {\n        text-align: right;\n    }\n</style>\n<table border=\"1\" class=\"dataframe\">\n  <thead>\n    <tr style=\"text-align: right;\">\n      <th></th>\n      <th>Keyword</th>\n      <th>HS_Code_Encoded</th>\n    </tr>\n  </thead>\n  <tbody>\n    <tr>\n      <th>0</th>\n      <td>[1250, suitable, disconnectors, 362, s3cd]</td>\n      <td>0</td>\n    </tr>\n    <tr>\n      <th>1</th>\n      <td>[500, kg, bags, hc, firbinogen, 1840, plasma, ...</td>\n      <td>0</td>\n    </tr>\n    <tr>\n      <th>2</th>\n      <td>[dz, 275, 10hstmkw, 25, 500, oz, ladies, 8njrl...</td>\n      <td>0</td>\n    </tr>\n    <tr>\n      <th>3</th>\n      <td>[furnit, suitable, ureother]</td>\n      <td>0</td>\n    </tr>\n    <tr>\n      <th>4</th>\n      <td>[aluminum, cans, cpm, 250, warmer, suitable, t...</td>\n      <td>0</td>\n    </tr>\n  </tbody>\n</table>\n</div>"
     },
     "execution_count": 19,
     "metadata": {},
     "output_type": "execute_result"
    }
   ],
   "source": [
    "df.head()"
   ],
   "metadata": {
    "collapsed": false,
    "ExecuteTime": {
     "end_time": "2023-12-08T12:50:55.318186Z",
     "start_time": "2023-12-08T12:50:55.313953Z"
    }
   },
   "id": "187a653a78dd92cf"
  },
  {
   "cell_type": "code",
   "execution_count": 20,
   "outputs": [],
   "source": [
    "from gensim import models\n",
    "\n",
    "# Loading the glove embeddings\n",
    "glove_model = models.KeyedVectors.load_word2vec_format(\"glove.6B.200d.txt\", binary=False, no_header=True)"
   ],
   "metadata": {
    "collapsed": false,
    "ExecuteTime": {
     "end_time": "2023-12-08T12:51:38.023400Z",
     "start_time": "2023-12-08T12:51:00.279594Z"
    }
   },
   "id": "d6928c9b8fe8fe49"
  },
  {
   "cell_type": "code",
   "execution_count": 21,
   "outputs": [],
   "source": [
    "# To replace the words with their indices in the dataset\n",
    "def token_to_index_glove(token):\n",
    "    try:\n",
    "        return glove_model.key_to_index[token]\n",
    "    except KeyError:\n",
    "        return 0  # Index of 0 for unknown words"
   ],
   "metadata": {
    "collapsed": false,
    "ExecuteTime": {
     "end_time": "2023-12-08T12:52:07.373134Z",
     "start_time": "2023-12-08T12:52:07.363665Z"
    }
   },
   "id": "a69979eaf8843f2b"
  },
  {
   "cell_type": "code",
   "execution_count": 22,
   "outputs": [],
   "source": [
    "from sklearn.model_selection import train_test_split\n",
    "\n",
    "model_selection = \"glove\"\n",
    "\n",
    "# Splitting the dataset into training, validation and test sets\n",
    "label_final = df['HS_Code_Encoded']\n",
    "df_lyrics = df['Keyword']\n",
    "\n",
    "df_indices = df_lyrics.apply(lambda x: [token_to_index_glove(token) for token in x])\n",
    "df_train_valid, df_test, label_train_valid, label_test = train_test_split(df_indices.to_list(), label_final.to_list(), test_size=0.10, random_state=7)\n",
    "df_train, df_valid, label_train, label_valid = train_test_split(df_train_valid, label_train_valid, test_size=0.10, random_state=7)"
   ],
   "metadata": {
    "collapsed": false,
    "ExecuteTime": {
     "end_time": "2023-12-08T12:52:08.189415Z",
     "start_time": "2023-12-08T12:52:07.990918Z"
    }
   },
   "id": "bc4788300ad6c9a2"
  },
  {
   "cell_type": "code",
   "execution_count": 23,
   "outputs": [],
   "source": [
    "import torch\n",
    "import copy\n",
    "from torch.utils.data import Dataset\n",
    "# Converting the dataframe into Torch's Text Dataset\n",
    "class TextDataset(Dataset):\n",
    "    def __init__(self, X, y):\n",
    "        self.X = X\n",
    "        self.y = y\n",
    "\n",
    "    def __len__(self):\n",
    "        return len(self.X)\n",
    "\n",
    "    def __getitem__(self, index):\n",
    "        return torch.tensor(self.X[index]), torch.tensor(self.y[index])\n",
    "\n",
    "train_dataset = TextDataset(df_train, label_train)\n",
    "valid_dataset = TextDataset(df_valid, label_valid)\n",
    "test_dataset = TextDataset(df_test, label_test)"
   ],
   "metadata": {
    "collapsed": false,
    "ExecuteTime": {
     "end_time": "2023-12-08T12:52:16.386580Z",
     "start_time": "2023-12-08T12:52:09.837888Z"
    }
   },
   "id": "4b984ca201fb8900"
  },
  {
   "cell_type": "code",
   "execution_count": 24,
   "outputs": [],
   "source": [
    "import torch.nn as nn\n",
    "import torch.nn.utils.rnn as rnn_utils\n",
    "from torch.utils.data import DataLoader\n",
    "device = 'cpu'\n",
    "batch_size = 32\n",
    "\n",
    "# Splitting the dataset into batches and padding the vectors for equal length\n",
    "def collate_batch(batch):\n",
    "    X = [torch.tensor(item[0], dtype=torch.long) for item in batch]\n",
    "    y = torch.tensor([item[1] for item in batch], dtype=torch.long)\n",
    "    X_padded = rnn_utils.pad_sequence(X, batch_first=True, padding_value=0)\n",
    "    lengths = torch.LongTensor([len(x) for x in X])\n",
    "    return X_padded.to(device), y.to(device), lengths.to(device)\n",
    "\n",
    "# DataLoader to load the data into the Torch Model\n",
    "train_loader = DataLoader(train_dataset, batch_size=batch_size, shuffle=True, collate_fn=collate_batch)\n",
    "valid_loader = DataLoader(valid_dataset, batch_size=batch_size, collate_fn=collate_batch)\n",
    "test_loader = DataLoader(test_dataset, batch_size=batch_size, collate_fn=collate_batch)"
   ],
   "metadata": {
    "collapsed": false,
    "ExecuteTime": {
     "end_time": "2023-12-08T12:52:19.784199Z",
     "start_time": "2023-12-08T12:52:19.775001Z"
    }
   },
   "id": "8004f1f72ae98e82"
  },
  {
   "cell_type": "code",
   "execution_count": 25,
   "outputs": [],
   "source": [
    "# Defining the LSTM Model\n",
    "class LSTM(nn.Module):\n",
    "    def __init__(self, given_model, num_classes, hidden_size=64, num_layers=2):\n",
    "        super(LSTM, self).__init__()\n",
    "        self.embedding_dim = given_model.vector_size\n",
    "        self.hidden_size = hidden_size\n",
    "        self.num_layers = num_layers\n",
    "\n",
    "        self.embedding = nn.Embedding.from_pretrained(torch.FloatTensor(given_model.vectors)) # Using the embeddings trained previously\n",
    "        self.lstm = nn.LSTM(self.embedding_dim, self.hidden_size, num_layers=self.num_layers, batch_first=True)\n",
    "        self.fc = nn.Linear(self.hidden_size, num_classes)\n",
    "        self.dropout = nn.Dropout(0.2)\n",
    "\n",
    "    def forward(self, x, lengths):\n",
    "        x = self.embedding(x)\n",
    "        x = self.dropout(x)\n",
    "        #Packing the padded sequences for better computational performance\n",
    "        packed_seq = rnn_utils.pack_padded_sequence(x, lengths, batch_first=True, enforce_sorted=False)\n",
    "        _, (hidden, _) = self.lstm(packed_seq)\n",
    "        output = self.fc(hidden[-1])\n",
    "        return output.squeeze(0)"
   ],
   "metadata": {
    "collapsed": false,
    "ExecuteTime": {
     "end_time": "2023-12-08T12:52:20.731493Z",
     "start_time": "2023-12-08T12:52:20.725033Z"
    }
   },
   "id": "16515e5bb6dee5d4"
  },
  {
   "cell_type": "code",
   "execution_count": 26,
   "outputs": [],
   "source": [
    "# Function to train the LSTM model and choose the best one based on validation performance\n",
    "def train_model(model, num_epochs, adam_optimizer, training_loss_list, loss_fn, validation_loss_list, validation_accuracy_list, best_accuracy=0, best_weights=None):\n",
    "    for epoch in range(num_epochs):\n",
    "        print(\"Epoch :\", epoch)\n",
    "        model.train()\n",
    "        training_loss = 0\n",
    "        current_batch = 0\n",
    "        for inputs, labels, lengths in train_loader:\n",
    "            if current_batch % 500 == 0:\n",
    "                print('Current batch: {} / {}'.format(current_batch + 1, len(train_loader)))\n",
    "            current_batch += 1\n",
    "            adam_optimizer.zero_grad()\n",
    "            outputs = model(inputs, lengths)\n",
    "            loss = loss_fn(outputs, labels)\n",
    "            loss.backward()\n",
    "            adam_optimizer.step()\n",
    "            training_loss = training_loss + (loss.item() * inputs.size(0))\n",
    "        training_loss = training_loss/len(train_loader.dataset)\n",
    "        training_loss_list.append(training_loss)\n",
    "        print(\"Training Loss: \", training_loss)\n",
    "\n",
    "        # Testing performance on validation set\n",
    "        model.eval()\n",
    "        validation_loss = 0\n",
    "        correct = 0\n",
    "        total = 0\n",
    "        current_batch = 0\n",
    "        with torch.no_grad():\n",
    "            for inputs, labels, lengths in valid_loader:\n",
    "                if current_batch % 500 == 0:\n",
    "                    print('Current batch: {} / {}'.format(current_batch+1, len(valid_loader)))\n",
    "                current_batch += 1\n",
    "                outputs = model(inputs, lengths)\n",
    "                loss = loss_fn(outputs, labels)\n",
    "                validation_loss = validation_loss + (loss.item()*inputs.size(0))\n",
    "                _, predicted = outputs.max(1)\n",
    "                total = total + labels.size(0)\n",
    "                correct = correct + predicted.eq(labels).sum().item()\n",
    "        validation_loss = validation_loss/len(valid_loader.dataset)\n",
    "        validation_loss_list.append(validation_loss)\n",
    "        validation_accuracy = correct/total\n",
    "        validation_accuracy_list.append(validation_accuracy)\n",
    "\n",
    "        # Get the best model parameters\n",
    "        if validation_accuracy > best_accuracy:\n",
    "            best_accuracy = validation_accuracy\n",
    "            best_weights = copy.deepcopy(model.state_dict())\n",
    "\n",
    "        print('Epoch [{}/{}], Train Loss: {:.4f}, Val Loss: {:.4f}, Val Acc: {:.2f}%'\n",
    "              .format(epoch+1, num_epochs, training_loss, validation_loss, 100*validation_accuracy))\n",
    "    return best_weights"
   ],
   "metadata": {
    "collapsed": false,
    "ExecuteTime": {
     "end_time": "2023-12-08T12:52:21.429428Z",
     "start_time": "2023-12-08T12:52:21.425780Z"
    }
   },
   "id": "6e26c8d0e53af136"
  },
  {
   "cell_type": "code",
   "execution_count": 27,
   "outputs": [
    {
     "name": "stdout",
     "output_type": "stream",
     "text": [
      "Epoch : 0\n",
      "Current batch: 1 / 543\n"
     ]
    },
    {
     "name": "stderr",
     "output_type": "stream",
     "text": [
      "/var/folders/_h/c0v2f2b52tg3tbh0qt6x1lmw0000gn/T/ipykernel_98381/573424280.py:9: UserWarning: To copy construct from a tensor, it is recommended to use sourceTensor.clone().detach() or sourceTensor.clone().detach().requires_grad_(True), rather than torch.tensor(sourceTensor).\n",
      "  X = [torch.tensor(item[0], dtype=torch.long) for item in batch]\n"
     ]
    },
    {
     "name": "stdout",
     "output_type": "stream",
     "text": [
      "Current batch: 501 / 543\n",
      "Training Loss:  3.6302100184434902\n",
      "Current batch: 1 / 61\n",
      "Epoch [1/50], Train Loss: 3.6302, Val Loss: 3.0978, Val Acc: 24.92%\n",
      "Epoch : 1\n",
      "Current batch: 1 / 543\n",
      "Current batch: 501 / 543\n",
      "Training Loss:  2.9043633748945803\n",
      "Current batch: 1 / 61\n",
      "Epoch [2/50], Train Loss: 2.9044, Val Loss: 2.6629, Val Acc: 34.20%\n",
      "Epoch : 2\n",
      "Current batch: 1 / 543\n",
      "Current batch: 501 / 543\n",
      "Training Loss:  2.5586355593499914\n",
      "Current batch: 1 / 61\n",
      "Epoch [3/50], Train Loss: 2.5586, Val Loss: 2.4416, Val Acc: 39.69%\n",
      "Epoch : 3\n",
      "Current batch: 1 / 543\n",
      "Current batch: 501 / 543\n",
      "Training Loss:  2.3440313076764303\n",
      "Current batch: 1 / 61\n",
      "Epoch [4/50], Train Loss: 2.3440, Val Loss: 2.3014, Val Acc: 42.18%\n",
      "Epoch : 4\n",
      "Current batch: 1 / 543\n",
      "Current batch: 501 / 543\n",
      "Training Loss:  2.173181025128604\n",
      "Current batch: 1 / 61\n",
      "Epoch [5/50], Train Loss: 2.1732, Val Loss: 2.2075, Val Acc: 44.09%\n",
      "Epoch : 5\n",
      "Current batch: 1 / 543\n",
      "Current batch: 501 / 543\n",
      "Training Loss:  2.042843181600443\n",
      "Current batch: 1 / 61\n",
      "Epoch [6/50], Train Loss: 2.0428, Val Loss: 2.1303, Val Acc: 46.06%\n",
      "Epoch : 6\n",
      "Current batch: 1 / 543\n",
      "Current batch: 501 / 543\n",
      "Training Loss:  1.9205938306946406\n",
      "Current batch: 1 / 61\n",
      "Epoch [7/50], Train Loss: 1.9206, Val Loss: 2.0710, Val Acc: 48.65%\n",
      "Epoch : 7\n",
      "Current batch: 1 / 543\n",
      "Current batch: 501 / 543\n",
      "Training Loss:  1.8262476711875006\n",
      "Current batch: 1 / 61\n",
      "Epoch [8/50], Train Loss: 1.8262, Val Loss: 2.0583, Val Acc: 49.17%\n",
      "Epoch : 8\n",
      "Current batch: 1 / 543\n",
      "Current batch: 501 / 543\n",
      "Training Loss:  1.739797932494351\n",
      "Current batch: 1 / 61\n",
      "Epoch [9/50], Train Loss: 1.7398, Val Loss: 1.9978, Val Acc: 50.93%\n",
      "Epoch : 9\n",
      "Current batch: 1 / 543\n",
      "Current batch: 501 / 543\n",
      "Training Loss:  1.6527620617665766\n",
      "Current batch: 1 / 61\n",
      "Epoch [10/50], Train Loss: 1.6528, Val Loss: 1.9529, Val Acc: 51.81%\n",
      "Epoch : 10\n",
      "Current batch: 1 / 543\n",
      "Current batch: 501 / 543\n",
      "Training Loss:  1.5876318000528133\n",
      "Current batch: 1 / 61\n",
      "Epoch [11/50], Train Loss: 1.5876, Val Loss: 1.9262, Val Acc: 51.19%\n",
      "Epoch : 11\n",
      "Current batch: 1 / 543\n",
      "Current batch: 501 / 543\n",
      "Training Loss:  1.5222562614095645\n",
      "Current batch: 1 / 61\n",
      "Epoch [12/50], Train Loss: 1.5223, Val Loss: 1.8986, Val Acc: 53.16%\n",
      "Epoch : 12\n",
      "Current batch: 1 / 543\n",
      "Current batch: 501 / 543\n",
      "Training Loss:  1.4612342174126771\n",
      "Current batch: 1 / 61\n",
      "Epoch [13/50], Train Loss: 1.4612, Val Loss: 1.8816, Val Acc: 53.78%\n",
      "Epoch : 13\n",
      "Current batch: 1 / 543\n",
      "Current batch: 501 / 543\n",
      "Training Loss:  1.4065444456822638\n",
      "Current batch: 1 / 61\n",
      "Epoch [14/50], Train Loss: 1.4065, Val Loss: 1.8863, Val Acc: 54.72%\n",
      "Epoch : 14\n",
      "Current batch: 1 / 543\n",
      "Current batch: 501 / 543\n",
      "Training Loss:  1.3608174156560595\n",
      "Current batch: 1 / 61\n",
      "Epoch [15/50], Train Loss: 1.3608, Val Loss: 1.8606, Val Acc: 54.30%\n",
      "Epoch : 15\n",
      "Current batch: 1 / 543\n",
      "Current batch: 501 / 543\n",
      "Training Loss:  1.3121873271295081\n",
      "Current batch: 1 / 61\n",
      "Epoch [16/50], Train Loss: 1.3122, Val Loss: 1.8615, Val Acc: 56.27%\n",
      "Epoch : 16\n",
      "Current batch: 1 / 543\n",
      "Current batch: 501 / 543\n",
      "Training Loss:  1.2751843957294797\n",
      "Current batch: 1 / 61\n",
      "Epoch [17/50], Train Loss: 1.2752, Val Loss: 1.8391, Val Acc: 55.91%\n",
      "Epoch : 17\n",
      "Current batch: 1 / 543\n",
      "Current batch: 501 / 543\n",
      "Training Loss:  1.2309229269877715\n",
      "Current batch: 1 / 61\n",
      "Epoch [18/50], Train Loss: 1.2309, Val Loss: 1.8480, Val Acc: 56.01%\n",
      "Epoch : 18\n",
      "Current batch: 1 / 543\n",
      "Current batch: 501 / 543\n",
      "Training Loss:  1.1990560478792933\n",
      "Current batch: 1 / 61\n",
      "Epoch [19/50], Train Loss: 1.1991, Val Loss: 1.8640, Val Acc: 55.91%\n",
      "Epoch : 19\n",
      "Current batch: 1 / 543\n",
      "Current batch: 501 / 543\n",
      "Training Loss:  1.1667897932983005\n",
      "Current batch: 1 / 61\n",
      "Epoch [20/50], Train Loss: 1.1668, Val Loss: 1.8434, Val Acc: 57.51%\n",
      "Epoch : 20\n",
      "Current batch: 1 / 543\n",
      "Current batch: 501 / 543\n",
      "Training Loss:  1.1311454781734795\n",
      "Current batch: 1 / 61\n",
      "Epoch [21/50], Train Loss: 1.1311, Val Loss: 1.8347, Val Acc: 57.20%\n",
      "Epoch : 21\n",
      "Current batch: 1 / 543\n",
      "Current batch: 501 / 543\n",
      "Training Loss:  1.093928827771609\n",
      "Current batch: 1 / 61\n",
      "Epoch [22/50], Train Loss: 1.0939, Val Loss: 1.8392, Val Acc: 56.99%\n",
      "Epoch : 22\n",
      "Current batch: 1 / 543\n",
      "Current batch: 501 / 543\n",
      "Training Loss:  1.0777822313963241\n",
      "Current batch: 1 / 61\n",
      "Epoch [23/50], Train Loss: 1.0778, Val Loss: 1.8771, Val Acc: 56.99%\n",
      "Epoch : 23\n",
      "Current batch: 1 / 543\n",
      "Current batch: 501 / 543\n",
      "Training Loss:  1.035325484032018\n",
      "Current batch: 1 / 61\n",
      "Epoch [24/50], Train Loss: 1.0353, Val Loss: 1.8720, Val Acc: 57.36%\n",
      "Epoch : 24\n",
      "Current batch: 1 / 543\n",
      "Current batch: 501 / 543\n",
      "Training Loss:  1.0171840616164258\n",
      "Current batch: 1 / 61\n",
      "Epoch [25/50], Train Loss: 1.0172, Val Loss: 1.8526, Val Acc: 58.24%\n",
      "Epoch : 25\n",
      "Current batch: 1 / 543\n",
      "Current batch: 501 / 543\n",
      "Training Loss:  0.9992904904689288\n",
      "Current batch: 1 / 61\n",
      "Epoch [26/50], Train Loss: 0.9993, Val Loss: 1.8707, Val Acc: 57.56%\n",
      "Epoch : 26\n",
      "Current batch: 1 / 543\n",
      "Current batch: 501 / 543\n",
      "Training Loss:  0.9727509776220405\n",
      "Current batch: 1 / 61\n",
      "Epoch [27/50], Train Loss: 0.9728, Val Loss: 1.8440, Val Acc: 57.62%\n",
      "Epoch : 27\n",
      "Current batch: 1 / 543\n",
      "Current batch: 501 / 543\n",
      "Training Loss:  0.953733214773049\n",
      "Current batch: 1 / 61\n",
      "Epoch [28/50], Train Loss: 0.9537, Val Loss: 1.9002, Val Acc: 58.03%\n",
      "Epoch : 28\n",
      "Current batch: 1 / 543\n",
      "Current batch: 501 / 543\n",
      "Training Loss:  0.9239634737777358\n",
      "Current batch: 1 / 61\n",
      "Epoch [29/50], Train Loss: 0.9240, Val Loss: 1.9020, Val Acc: 57.98%\n",
      "Epoch : 29\n",
      "Current batch: 1 / 543\n",
      "Current batch: 501 / 543\n",
      "Training Loss:  0.9009343077926688\n",
      "Current batch: 1 / 61\n",
      "Epoch [30/50], Train Loss: 0.9009, Val Loss: 1.9121, Val Acc: 57.77%\n",
      "Epoch : 30\n",
      "Current batch: 1 / 543\n",
      "Current batch: 501 / 543\n",
      "Training Loss:  0.8832147076952462\n",
      "Current batch: 1 / 61\n",
      "Epoch [31/50], Train Loss: 0.8832, Val Loss: 1.9025, Val Acc: 58.03%\n",
      "Epoch : 31\n",
      "Current batch: 1 / 543\n",
      "Current batch: 501 / 543\n",
      "Training Loss:  0.8702611850736768\n",
      "Current batch: 1 / 61\n",
      "Epoch [32/50], Train Loss: 0.8703, Val Loss: 1.8994, Val Acc: 58.13%\n",
      "Epoch : 32\n",
      "Current batch: 1 / 543\n",
      "Current batch: 501 / 543\n",
      "Training Loss:  0.8495385996595828\n",
      "Current batch: 1 / 61\n",
      "Epoch [33/50], Train Loss: 0.8495, Val Loss: 1.9196, Val Acc: 57.56%\n",
      "Epoch : 33\n",
      "Current batch: 1 / 543\n",
      "Current batch: 501 / 543\n",
      "Training Loss:  0.8298080684896001\n",
      "Current batch: 1 / 61\n",
      "Epoch [34/50], Train Loss: 0.8298, Val Loss: 1.9318, Val Acc: 58.86%\n",
      "Epoch : 34\n",
      "Current batch: 1 / 543\n",
      "Current batch: 501 / 543\n",
      "Training Loss:  0.828359991106115\n",
      "Current batch: 1 / 61\n",
      "Epoch [35/50], Train Loss: 0.8284, Val Loss: 1.9513, Val Acc: 58.19%\n",
      "Epoch : 35\n",
      "Current batch: 1 / 543\n",
      "Current batch: 501 / 543\n",
      "Training Loss:  0.791872441109728\n",
      "Current batch: 1 / 61\n",
      "Epoch [36/50], Train Loss: 0.7919, Val Loss: 1.9814, Val Acc: 57.20%\n",
      "Epoch : 36\n",
      "Current batch: 1 / 543\n",
      "Current batch: 501 / 543\n",
      "Training Loss:  0.7953652924845593\n",
      "Current batch: 1 / 61\n",
      "Epoch [37/50], Train Loss: 0.7954, Val Loss: 1.9950, Val Acc: 57.67%\n",
      "Epoch : 37\n",
      "Current batch: 1 / 543\n",
      "Current batch: 501 / 543\n",
      "Training Loss:  0.7845914665865272\n",
      "Current batch: 1 / 61\n",
      "Epoch [38/50], Train Loss: 0.7846, Val Loss: 1.9632, Val Acc: 58.91%\n",
      "Epoch : 38\n",
      "Current batch: 1 / 543\n",
      "Current batch: 501 / 543\n",
      "Training Loss:  0.7541868267713852\n",
      "Current batch: 1 / 61\n",
      "Epoch [39/50], Train Loss: 0.7542, Val Loss: 1.9963, Val Acc: 58.08%\n",
      "Epoch : 39\n",
      "Current batch: 1 / 543\n",
      "Current batch: 501 / 543\n",
      "Training Loss:  0.7516744701283585\n",
      "Current batch: 1 / 61\n",
      "Epoch [40/50], Train Loss: 0.7517, Val Loss: 1.9744, Val Acc: 58.55%\n",
      "Epoch : 40\n",
      "Current batch: 1 / 543\n",
      "Current batch: 501 / 543\n",
      "Training Loss:  0.740860432674675\n",
      "Current batch: 1 / 61\n",
      "Epoch [41/50], Train Loss: 0.7409, Val Loss: 1.9985, Val Acc: 58.45%\n",
      "Epoch : 41\n",
      "Current batch: 1 / 543\n",
      "Current batch: 501 / 543\n",
      "Training Loss:  0.7222826732627152\n",
      "Current batch: 1 / 61\n",
      "Epoch [42/50], Train Loss: 0.7223, Val Loss: 2.0166, Val Acc: 58.50%\n",
      "Epoch : 42\n",
      "Current batch: 1 / 543\n",
      "Current batch: 501 / 543\n",
      "Training Loss:  0.7136597146997798\n",
      "Current batch: 1 / 61\n",
      "Epoch [43/50], Train Loss: 0.7137, Val Loss: 2.0022, Val Acc: 58.60%\n",
      "Epoch : 43\n",
      "Current batch: 1 / 543\n",
      "Current batch: 501 / 543\n",
      "Training Loss:  0.7085608559673912\n",
      "Current batch: 1 / 61\n",
      "Epoch [44/50], Train Loss: 0.7086, Val Loss: 2.0220, Val Acc: 59.43%\n",
      "Epoch : 44\n",
      "Current batch: 1 / 543\n",
      "Current batch: 501 / 543\n",
      "Training Loss:  0.6995705206072423\n",
      "Current batch: 1 / 61\n",
      "Epoch [45/50], Train Loss: 0.6996, Val Loss: 2.0425, Val Acc: 58.55%\n",
      "Epoch : 45\n",
      "Current batch: 1 / 543\n",
      "Current batch: 501 / 543\n",
      "Training Loss:  0.6775054995610603\n",
      "Current batch: 1 / 61\n",
      "Epoch [46/50], Train Loss: 0.6775, Val Loss: 2.0329, Val Acc: 58.91%\n",
      "Epoch : 46\n",
      "Current batch: 1 / 543\n",
      "Current batch: 501 / 543\n",
      "Training Loss:  0.6658479782333576\n",
      "Current batch: 1 / 61\n",
      "Epoch [47/50], Train Loss: 0.6658, Val Loss: 2.0180, Val Acc: 58.65%\n",
      "Epoch : 47\n",
      "Current batch: 1 / 543\n",
      "Current batch: 501 / 543\n",
      "Training Loss:  0.6664513737471188\n",
      "Current batch: 1 / 61\n",
      "Epoch [48/50], Train Loss: 0.6665, Val Loss: 2.0399, Val Acc: 58.86%\n",
      "Epoch : 48\n",
      "Current batch: 1 / 543\n",
      "Current batch: 501 / 543\n",
      "Training Loss:  0.6538947392366603\n",
      "Current batch: 1 / 61\n",
      "Epoch [49/50], Train Loss: 0.6539, Val Loss: 2.0308, Val Acc: 58.70%\n",
      "Epoch : 49\n",
      "Current batch: 1 / 543\n",
      "Current batch: 501 / 543\n",
      "Training Loss:  0.6394368890297133\n",
      "Current batch: 1 / 61\n",
      "Epoch [50/50], Train Loss: 0.6394, Val Loss: 2.0724, Val Acc: 57.82%\n"
     ]
    }
   ],
   "source": [
    "import torch.optim as optim\n",
    "# Training model with glove embeddings\n",
    "learning_rate = 0.001\n",
    "num_epochs = 50\n",
    "hidden_size = 64\n",
    "num_layers = 2\n",
    "num_classes = len(set(label_final))\n",
    "\n",
    "training_loss_list = []\n",
    "validation_loss_list = []\n",
    "validation_accuracy_list = []\n",
    "\n",
    "best_accuracy = 0\n",
    "best_weights = None\n",
    "\n",
    "model = LSTM(glove_model, num_classes, hidden_size=hidden_size, num_layers=num_layers)\n",
    "adam_optimizer = optim.Adam(model.parameters(), lr=learning_rate)\n",
    "loss_fn = nn.CrossEntropyLoss()\n",
    "\n",
    "best_weights=train_model(model, num_epochs, adam_optimizer, training_loss_list, loss_fn, validation_loss_list, validation_accuracy_list, best_accuracy, best_weights)\n",
    "# Saving the best model parameters\n",
    "model.load_state_dict(best_weights)\n",
    "torch.save(model.state_dict(), 'LSTM_with_glove.pth')"
   ],
   "metadata": {
    "collapsed": false,
    "ExecuteTime": {
     "end_time": "2023-12-08T12:59:53.874207Z",
     "start_time": "2023-12-08T12:52:22.773965Z"
    }
   },
   "id": "feac56ea94bd2b5a"
  },
  {
   "cell_type": "code",
   "execution_count": 28,
   "outputs": [
    {
     "data": {
      "text/plain": "<Figure size 640x480 with 1 Axes>",
      "image/png": "[encoded data removed]"
     },
     "metadata": {},
     "output_type": "display_data"
    },
    {
     "data": {
      "text/plain": "<Figure size 640x480 with 1 Axes>",
      "image/png": "[encoded data removed]"
     },
     "metadata": {},
     "output_type": "display_data"
    },
    {
     "data": {
      "text/plain": "<Figure size 640x480 with 0 Axes>"
     },
     "metadata": {},
     "output_type": "display_data"
    }
   ],
   "source": [
    "\n",
    "import matplotlib.pyplot as plt\n",
    "\n",
    "plt.plot(training_loss_list, label=\"training\")\n",
    "plt.plot(validation_loss_list, label=\"validation\")\n",
    "plt.xlabel(\"epochs\")\n",
    "plt.ylabel(\"cross entropy\")\n",
    "plt.legend()\n",
    "plt.show()\n",
    "plt.savefig('Loss.png')\n",
    "\n",
    "plt.plot(validation_accuracy_list, label=\"validation\")\n",
    "plt.xlabel(\"epochs\")\n",
    "plt.ylabel(\"accuracy\")\n",
    "plt.legend()\n",
    "plt.show()\n",
    "plt.savefig('Accuracy.png')"
   ],
   "metadata": {
    "collapsed": false,
    "ExecuteTime": {
     "end_time": "2023-12-08T13:00:53.661504Z",
     "start_time": "2023-12-08T13:00:52.689035Z"
    }
   },
   "id": "ca1bfe9e939c319c"
  },
  {
   "cell_type": "code",
   "execution_count": 29,
   "outputs": [],
   "source": [
    "from sklearn.metrics import precision_recall_fscore_support\n",
    "# Function to evaluate the model performance on the test set\n",
    "def evaluate(model, loss_fn):\n",
    "    model.eval()\n",
    "    test_loss = 0\n",
    "    correct = 0\n",
    "    total = 0\n",
    "    current_batch = 0\n",
    "    predicted_list = []\n",
    "    labels_list = []\n",
    "    with torch.no_grad():\n",
    "        for inputs, labels, lengths in valid_loader:\n",
    "            if current_batch % 500 == 0:\n",
    "                print('Current batch: {} / {}'.format(current_batch+1, len(valid_loader)))\n",
    "            current_batch += 1\n",
    "            outputs = model(inputs, lengths)\n",
    "            loss = loss_fn(outputs, labels)\n",
    "            test_loss = test_loss + (loss.item()*inputs.size(0))\n",
    "            _, predicted = outputs.max(1)\n",
    "            total = total + labels.size(0)\n",
    "            correct = correct + predicted.eq(labels).sum().item()\n",
    "            predicted_list.extend(predicted.tolist())\n",
    "            labels_list.extend(labels.tolist())\n",
    "    test_loss = test_loss/len(valid_loader.dataset)\n",
    "    test_accuracy = correct/total\n",
    "    precision, recall, f1, _ = precision_recall_fscore_support(labels_list, predicted_list, average='weighted')\n",
    "\n",
    "    print(\"Accuracy: \",test_accuracy)\n",
    "    print(\"Precision: \",precision)\n",
    "    print(\"Recall: \",recall)\n",
    "    print(\"F1: \",f1)"
   ],
   "metadata": {
    "collapsed": false,
    "ExecuteTime": {
     "end_time": "2023-12-08T13:00:55.226065Z",
     "start_time": "2023-12-08T13:00:55.216344Z"
    }
   },
   "id": "68f723e10853d40e"
  },
  {
   "cell_type": "code",
   "execution_count": 30,
   "outputs": [
    {
     "data": {
      "text/plain": "<All keys matched successfully>"
     },
     "execution_count": 30,
     "metadata": {},
     "output_type": "execute_result"
    }
   ],
   "source": [
    "# Testing model with glove embeddings\n",
    "hidden_size = 64\n",
    "num_layers = 2\n",
    "num_classes = len(set(label_final))\n",
    "\n",
    "model = LSTM(glove_model, num_classes, hidden_size=hidden_size, num_layers=num_layers)\n",
    "\n",
    "loss_fn = nn.CrossEntropyLoss()\n",
    "model.load_state_dict(torch.load('LSTM_with_glove.pth'))"
   ],
   "metadata": {
    "collapsed": false,
    "ExecuteTime": {
     "end_time": "2023-12-08T13:00:56.502128Z",
     "start_time": "2023-12-08T13:00:56.269050Z"
    }
   },
   "id": "cbcaa693fd1ab076"
  },
  {
   "cell_type": "code",
   "execution_count": 31,
   "outputs": [
    {
     "name": "stderr",
     "output_type": "stream",
     "text": [
      "/var/folders/_h/c0v2f2b52tg3tbh0qt6x1lmw0000gn/T/ipykernel_98381/573424280.py:9: UserWarning: To copy construct from a tensor, it is recommended to use sourceTensor.clone().detach() or sourceTensor.clone().detach().requires_grad_(True), rather than torch.tensor(sourceTensor).\n",
      "  X = [torch.tensor(item[0], dtype=torch.long) for item in batch]\n"
     ]
    },
    {
     "name": "stdout",
     "output_type": "stream",
     "text": [
      "Current batch: 1 / 61\n",
      "Accuracy:  0.5943005181347151\n",
      "Precision:  0.5966205581998024\n",
      "Recall:  0.5943005181347151\n",
      "F1:  0.5851625805693362\n"
     ]
    },
    {
     "name": "stderr",
     "output_type": "stream",
     "text": [
      "/Users/santoshsaranyan/opt/anaconda3/lib/python3.8/site-packages/sklearn/metrics/_classification.py:1469: UndefinedMetricWarning: Precision and F-score are ill-defined and being set to 0.0 in labels with no predicted samples. Use `zero_division` parameter to control this behavior.\n",
      "  _warn_prf(average, modifier, msg_start, len(result))\n"
     ]
    }
   ],
   "source": [
    "evaluate(model, loss_fn)"
   ],
   "metadata": {
    "collapsed": false,
    "ExecuteTime": {
     "end_time": "2023-12-08T13:00:58.697090Z",
     "start_time": "2023-12-08T13:00:58.375071Z"
    }
   },
   "id": "550ce61ec665b27d"
  },
  {
   "cell_type": "code",
   "execution_count": null,
   "outputs": [],
   "source": [],
   "metadata": {
    "collapsed": false
   },
   "id": "54479b5a2399ef76"
  }
 ],
 "metadata": {
  "kernelspec": {
   "display_name": "Python 3",
   "language": "python",
   "name": "python3"
  },
  "language_info": {
   "codemirror_mode": {
    "name": "ipython",
    "version": 2
   },
   "file_extension": ".py",
   "mimetype": "text/x-python",
   "name": "python",
   "nbconvert_exporter": "python",
   "pygments_lexer": "ipython2",
   "version": "2.7.6"
  }
 },
 "nbformat": 4,
 "nbformat_minor": 5
}
