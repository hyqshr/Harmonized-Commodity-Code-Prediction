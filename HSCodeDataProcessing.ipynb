{
 "cells": [
  {
   "cell_type": "code",
   "execution_count": 1,
   "outputs": [],
   "source": [
    "import pandas as pd\n",
    "import numpy as np\n",
    "import json"
   ],
   "metadata": {
    "collapsed": false,
    "pycharm": {
     "name": "#%%\n"
    }
   }
  },
  {
   "cell_type": "code",
   "execution_count": 2,
   "outputs": [],
   "source": [
    "with open('data/classificationH6.json','r') as f:\n",
    "    data = json.loads(f.read())\n",
    "\n",
    "df = pd.json_normalize(data, record_path =['results'])"
   ],
   "metadata": {
    "collapsed": false,
    "pycharm": {
     "name": "#%%\n"
    }
   }
  },
  {
   "cell_type": "code",
   "execution_count": 3,
   "outputs": [
    {
     "data": {
      "text/plain": "       id                                               text parent\n0     ALL                              All HS2022 categories      #\n1   TOTAL                    Total of all HS2022 commodities      #\n2     AG2               AG2 - All 2-digit HS2022 commodities      #\n3     AG4               AG4 - All 4-digit HS2022 commodities      #\n4     AG6               AG6 - All 6-digit HS2022 commodities      #\n5      01                                 01 - Animals; live  TOTAL\n6    0101      0101 - Horses, asses, mules and hinnies; live     01\n7  010121  010121 - Horses; live, pure-bred breeding animals   0101\n8  010129  010129 - Horses; live, other than pure-bred br...   0101\n9  010130                               010130 - Asses; live   0101",
      "text/html": "<div>\n<style scoped>\n    .dataframe tbody tr th:only-of-type {\n        vertical-align: middle;\n    }\n\n    .dataframe tbody tr th {\n        vertical-align: top;\n    }\n\n    .dataframe thead th {\n        text-align: right;\n    }\n</style>\n<table border=\"1\" class=\"dataframe\">\n  <thead>\n    <tr style=\"text-align: right;\">\n      <th></th>\n      <th>id</th>\n      <th>text</th>\n      <th>parent</th>\n    </tr>\n  </thead>\n  <tbody>\n    <tr>\n      <th>0</th>\n      <td>ALL</td>\n      <td>All HS2022 categories</td>\n      <td>#</td>\n    </tr>\n    <tr>\n      <th>1</th>\n      <td>TOTAL</td>\n      <td>Total of all HS2022 commodities</td>\n      <td>#</td>\n    </tr>\n    <tr>\n      <th>2</th>\n      <td>AG2</td>\n      <td>AG2 - All 2-digit HS2022 commodities</td>\n      <td>#</td>\n    </tr>\n    <tr>\n      <th>3</th>\n      <td>AG4</td>\n      <td>AG4 - All 4-digit HS2022 commodities</td>\n      <td>#</td>\n    </tr>\n    <tr>\n      <th>4</th>\n      <td>AG6</td>\n      <td>AG6 - All 6-digit HS2022 commodities</td>\n      <td>#</td>\n    </tr>\n    <tr>\n      <th>5</th>\n      <td>01</td>\n      <td>01 - Animals; live</td>\n      <td>TOTAL</td>\n    </tr>\n    <tr>\n      <th>6</th>\n      <td>0101</td>\n      <td>0101 - Horses, asses, mules and hinnies; live</td>\n      <td>01</td>\n    </tr>\n    <tr>\n      <th>7</th>\n      <td>010121</td>\n      <td>010121 - Horses; live, pure-bred breeding animals</td>\n      <td>0101</td>\n    </tr>\n    <tr>\n      <th>8</th>\n      <td>010129</td>\n      <td>010129 - Horses; live, other than pure-bred br...</td>\n      <td>0101</td>\n    </tr>\n    <tr>\n      <th>9</th>\n      <td>010130</td>\n      <td>010130 - Asses; live</td>\n      <td>0101</td>\n    </tr>\n  </tbody>\n</table>\n</div>"
     },
     "execution_count": 3,
     "metadata": {},
     "output_type": "execute_result"
    }
   ],
   "source": [
    "df.head(10)"
   ],
   "metadata": {
    "collapsed": false,
    "pycharm": {
     "name": "#%%\n"
    }
   }
  },
  {
   "cell_type": "code",
   "execution_count": 4,
   "outputs": [],
   "source": [
    "df.drop(df.index[:5], inplace=True)\n",
    "df['text'] = df['text'].apply(lambda x: x.split('-')[1])"
   ],
   "metadata": {
    "collapsed": false,
    "pycharm": {
     "name": "#%%\n"
    }
   }
  },
  {
   "cell_type": "code",
   "execution_count": 5,
   "outputs": [
    {
     "data": {
      "text/plain": "        id                                     text parent\n5       01                            Animals; live  TOTAL\n6     0101   Horses, asses, mules and hinnies; live     01\n7   010121                       Horses; live, pure   0101\n8   010129            Horses; live, other than pure   0101\n9   010130                              Asses; live   0101\n10  010190                  Mules and hinnies; live   0101\n11    0102                     Bovine animals; live     01\n12  010221                       Cattle; live, pure   0102\n13  010229            Cattle; live, other than pure   0102\n14  010231                      Buffalo; live, pure   0102",
      "text/html": "<div>\n<style scoped>\n    .dataframe tbody tr th:only-of-type {\n        vertical-align: middle;\n    }\n\n    .dataframe tbody tr th {\n        vertical-align: top;\n    }\n\n    .dataframe thead th {\n        text-align: right;\n    }\n</style>\n<table border=\"1\" class=\"dataframe\">\n  <thead>\n    <tr style=\"text-align: right;\">\n      <th></th>\n      <th>id</th>\n      <th>text</th>\n      <th>parent</th>\n    </tr>\n  </thead>\n  <tbody>\n    <tr>\n      <th>5</th>\n      <td>01</td>\n      <td>Animals; live</td>\n      <td>TOTAL</td>\n    </tr>\n    <tr>\n      <th>6</th>\n      <td>0101</td>\n      <td>Horses, asses, mules and hinnies; live</td>\n      <td>01</td>\n    </tr>\n    <tr>\n      <th>7</th>\n      <td>010121</td>\n      <td>Horses; live, pure</td>\n      <td>0101</td>\n    </tr>\n    <tr>\n      <th>8</th>\n      <td>010129</td>\n      <td>Horses; live, other than pure</td>\n      <td>0101</td>\n    </tr>\n    <tr>\n      <th>9</th>\n      <td>010130</td>\n      <td>Asses; live</td>\n      <td>0101</td>\n    </tr>\n    <tr>\n      <th>10</th>\n      <td>010190</td>\n      <td>Mules and hinnies; live</td>\n      <td>0101</td>\n    </tr>\n    <tr>\n      <th>11</th>\n      <td>0102</td>\n      <td>Bovine animals; live</td>\n      <td>01</td>\n    </tr>\n    <tr>\n      <th>12</th>\n      <td>010221</td>\n      <td>Cattle; live, pure</td>\n      <td>0102</td>\n    </tr>\n    <tr>\n      <th>13</th>\n      <td>010229</td>\n      <td>Cattle; live, other than pure</td>\n      <td>0102</td>\n    </tr>\n    <tr>\n      <th>14</th>\n      <td>010231</td>\n      <td>Buffalo; live, pure</td>\n      <td>0102</td>\n    </tr>\n  </tbody>\n</table>\n</div>"
     },
     "execution_count": 5,
     "metadata": {},
     "output_type": "execute_result"
    }
   ],
   "source": [
    "df.head(10)"
   ],
   "metadata": {
    "collapsed": false,
    "pycharm": {
     "name": "#%%\n"
    }
   }
  },
  {
   "cell_type": "code",
   "execution_count": 6,
   "outputs": [],
   "source": [
    "df = df.loc[df['id'].str.len() == 6]\n",
    "df.reset_index(drop=True, inplace=True)"
   ],
   "metadata": {
    "collapsed": false,
    "pycharm": {
     "name": "#%%\n"
    }
   }
  },
  {
   "cell_type": "code",
   "execution_count": 7,
   "outputs": [
    {
     "data": {
      "text/plain": "       id                                               text parent\n0  010121                                 Horses; live, pure   0101\n1  010129                      Horses; live, other than pure   0101\n2  010130                                        Asses; live   0101\n3  010190                            Mules and hinnies; live   0101\n4  010221                                 Cattle; live, pure   0102\n5  010229                      Cattle; live, other than pure   0102\n6  010231                                Buffalo; live, pure   0102\n7  010239                     Buffalo; live, other than pure   0102\n8  010290   Bovine animals; live, other than cattle and b...   0102\n9  010310                                  Swine; live, pure   0103",
      "text/html": "<div>\n<style scoped>\n    .dataframe tbody tr th:only-of-type {\n        vertical-align: middle;\n    }\n\n    .dataframe tbody tr th {\n        vertical-align: top;\n    }\n\n    .dataframe thead th {\n        text-align: right;\n    }\n</style>\n<table border=\"1\" class=\"dataframe\">\n  <thead>\n    <tr style=\"text-align: right;\">\n      <th></th>\n      <th>id</th>\n      <th>text</th>\n      <th>parent</th>\n    </tr>\n  </thead>\n  <tbody>\n    <tr>\n      <th>0</th>\n      <td>010121</td>\n      <td>Horses; live, pure</td>\n      <td>0101</td>\n    </tr>\n    <tr>\n      <th>1</th>\n      <td>010129</td>\n      <td>Horses; live, other than pure</td>\n      <td>0101</td>\n    </tr>\n    <tr>\n      <th>2</th>\n      <td>010130</td>\n      <td>Asses; live</td>\n      <td>0101</td>\n    </tr>\n    <tr>\n      <th>3</th>\n      <td>010190</td>\n      <td>Mules and hinnies; live</td>\n      <td>0101</td>\n    </tr>\n    <tr>\n      <th>4</th>\n      <td>010221</td>\n      <td>Cattle; live, pure</td>\n      <td>0102</td>\n    </tr>\n    <tr>\n      <th>5</th>\n      <td>010229</td>\n      <td>Cattle; live, other than pure</td>\n      <td>0102</td>\n    </tr>\n    <tr>\n      <th>6</th>\n      <td>010231</td>\n      <td>Buffalo; live, pure</td>\n      <td>0102</td>\n    </tr>\n    <tr>\n      <th>7</th>\n      <td>010239</td>\n      <td>Buffalo; live, other than pure</td>\n      <td>0102</td>\n    </tr>\n    <tr>\n      <th>8</th>\n      <td>010290</td>\n      <td>Bovine animals; live, other than cattle and b...</td>\n      <td>0102</td>\n    </tr>\n    <tr>\n      <th>9</th>\n      <td>010310</td>\n      <td>Swine; live, pure</td>\n      <td>0103</td>\n    </tr>\n  </tbody>\n</table>\n</div>"
     },
     "execution_count": 7,
     "metadata": {},
     "output_type": "execute_result"
    }
   ],
   "source": [
    "df.head(10)"
   ],
   "metadata": {
    "collapsed": false,
    "pycharm": {
     "name": "#%%\n"
    }
   }
  },
  {
   "cell_type": "code",
   "execution_count": 8,
   "outputs": [],
   "source": [
    "df.to_csv(\"data/HSCodeData.csv\")"
   ],
   "metadata": {
    "collapsed": false,
    "pycharm": {
     "name": "#%%\n"
    }
   }
  },
  {
   "cell_type": "code",
   "execution_count": null,
   "outputs": [],
   "source": [],
   "metadata": {
    "collapsed": false,
    "pycharm": {
     "name": "#%%\n"
    }
   }
  }
 ],
 "metadata": {
  "kernelspec": {
   "display_name": "Python 3",
   "language": "python",
   "name": "python3"
  },
  "language_info": {
   "codemirror_mode": {
    "name": "ipython",
    "version": 2
   },
   "file_extension": ".py",
   "mimetype": "text/x-python",
   "name": "python",
   "nbconvert_exporter": "python",
   "pygments_lexer": "ipython2",
   "version": "2.7.6"
  }
 },
 "nbformat": 4,
 "nbformat_minor": 0
}